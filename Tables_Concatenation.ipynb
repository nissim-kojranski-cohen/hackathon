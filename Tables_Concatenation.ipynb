{
 "cells": [
  {
   "cell_type": "markdown",
   "id": "64aa691f",
   "metadata": {},
   "source": [
    "# - Tables Concatenation"
   ]
  },
  {
   "cell_type": "code",
   "execution_count": 1,
   "id": "f33574f8",
   "metadata": {},
   "outputs": [],
   "source": [
    "import pandas as pd"
   ]
  },
  {
   "cell_type": "code",
   "execution_count": 2,
   "id": "c007c0a3",
   "metadata": {},
   "outputs": [],
   "source": [
    "demographics = pd.read_csv('demographics.csv')\n",
    "electricity = pd.read_csv('electricity.csv')\n",
    "water = pd.read_csv('water.csv')\n",
    "arnona = pd.read_csv('arnona.csv')\n",
    "\n",
    "dataframes = [demographics, electricity, water, arnona]"
   ]
  },
  {
   "cell_type": "code",
   "execution_count": 3,
   "id": "9df97b08",
   "metadata": {},
   "outputs": [],
   "source": [
    "for df in dataframes:\n",
    "    df = df.drop('Unnamed: 0', axis=1)"
   ]
  },
  {
   "cell_type": "code",
   "execution_count": 4,
   "id": "73957003",
   "metadata": {},
   "outputs": [],
   "source": [
    "# def add_prefix(df, )\n",
    "months = ['January', 'February', 'March', 'April', 'May', 'June', \n",
    "          'July', 'August', 'September', 'October', 'Novemeber','December']\n",
    "prefixed_months_elec = ['Elec_'+month for month in months]\n",
    "prefixed_months_water = ['Water_'+month for month in months]\n",
    "\n",
    "dict_elec = {month: prefixed_month for month,prefixed_month in zip(months, prefixed_months_elec)}\n",
    "dict_water = {month: prefixed_month for month,prefixed_month in zip(months, prefixed_months_water)}"
   ]
  },
  {
   "cell_type": "code",
   "execution_count": 5,
   "id": "d42bf336",
   "metadata": {},
   "outputs": [],
   "source": [
    "electricity.rename(columns = dict_elec, inplace=True)\n",
    "water.rename(columns = dict_water, inplace=True)\n",
    "arnona.rename(columns = {'price': 'Arnona'}, inplace=True)"
   ]
  },
  {
   "cell_type": "code",
   "execution_count": 6,
   "id": "bf9ce175",
   "metadata": {},
   "outputs": [],
   "source": [
    "df_merged = demographics.merge(electricity, how='outer')\n",
    "df_merged = df_merged.merge(water, how='left')\n",
    "df_merged = df_merged.merge(arnona, how='left')\n",
    "\n",
    "if 'Unnamed: 0' in df_merged.columns:\n",
    "    df_merged.drop('Unnamed: 0', axis=1, inplace=True)"
   ]
  },
  {
   "cell_type": "code",
   "execution_count": 7,
   "id": "bbd92ba4",
   "metadata": {},
   "outputs": [],
   "source": [
    "df_merged.to_csv('merged.csv', index=False)"
   ]
  }
 ],
 "metadata": {
  "kernelspec": {
   "display_name": "Python 3 (ipykernel)",
   "language": "python",
   "name": "python3"
  },
  "language_info": {
   "codemirror_mode": {
    "name": "ipython",
    "version": 3
   },
   "file_extension": ".py",
   "mimetype": "text/x-python",
   "name": "python",
   "nbconvert_exporter": "python",
   "pygments_lexer": "ipython3",
   "version": "3.9.12"
  },
  "toc": {
   "base_numbering": 1,
   "nav_menu": {},
   "number_sections": true,
   "sideBar": true,
   "skip_h1_title": false,
   "title_cell": "Table of Contents",
   "title_sidebar": "Contents",
   "toc_cell": false,
   "toc_position": {},
   "toc_section_display": true,
   "toc_window_display": false
  }
 },
 "nbformat": 4,
 "nbformat_minor": 5
}
