{
 "cells": [
  {
   "cell_type": "code",
   "execution_count": 1,
   "id": "c8b3e85e",
   "metadata": {},
   "outputs": [
    {
     "name": "stdout",
     "output_type": "stream",
     "text": [
      "Requirement already satisfied: Faker in c:\\users\\mfuser\\anaconda3\\lib\\site-packages (14.2.0)\n",
      "Requirement already satisfied: python-dateutil>=2.4 in c:\\users\\mfuser\\anaconda3\\lib\\site-packages (from Faker) (2.8.2)\n",
      "Requirement already satisfied: six>=1.5 in c:\\users\\mfuser\\anaconda3\\lib\\site-packages (from python-dateutil>=2.4->Faker) (1.16.0)\n"
     ]
    }
   ],
   "source": [
    "!pip install Faker"
   ]
  },
  {
   "cell_type": "code",
   "execution_count": 2,
   "id": "c2bddb1e",
   "metadata": {},
   "outputs": [],
   "source": [
    "NUM_OF_BILLS = 12\n",
    "NUM_OF_ROWS = 1000\n",
    "months = ['January', 'February', 'March', 'April', 'May', 'June', 'July', 'August', 'September', 'October', 'Novemeber', 'December']"
   ]
  },
  {
   "cell_type": "code",
   "execution_count": 3,
   "id": "a35c317d",
   "metadata": {},
   "outputs": [],
   "source": [
    "import pandas as pd\n",
    "import numpy as np\n",
    "from faker import Faker\n",
    "import datetime\n",
    "import random\n",
    "# import matplotlib.pyplot as plt\n",
    "# import seaborn as sns"
   ]
  },
  {
   "cell_type": "code",
   "execution_count": 4,
   "id": "3c623142",
   "metadata": {},
   "outputs": [],
   "source": [
    "from faker import Faker\n",
    "import datetime\n",
    "import random"
   ]
  },
  {
   "cell_type": "markdown",
   "id": "309e7f40",
   "metadata": {},
   "source": [
    "## Demographics"
   ]
  },
  {
   "cell_type": "code",
   "execution_count": 5,
   "id": "0e8261e3",
   "metadata": {},
   "outputs": [],
   "source": [
    "f = Faker()"
   ]
  },
  {
   "cell_type": "code",
   "execution_count": 6,
   "id": "db84fa98",
   "metadata": {},
   "outputs": [],
   "source": [
    "names = [f.name() for _ in range(NUM_OF_ROWS)]"
   ]
  },
  {
   "cell_type": "code",
   "execution_count": 7,
   "id": "fe581756",
   "metadata": {},
   "outputs": [],
   "source": [
    "demographics = pd.DataFrame(data=names).rename(columns={0: 'name'})"
   ]
  },
  {
   "cell_type": "markdown",
   "id": "0fe77813",
   "metadata": {},
   "source": [
    "### Birth Dates"
   ]
  },
  {
   "cell_type": "code",
   "execution_count": 8,
   "id": "3ac9e9ad",
   "metadata": {},
   "outputs": [],
   "source": [
    "def gen_date():\n",
    "    start_date = datetime.date(1960, 1, 1)\n",
    "    end_date = datetime.date(2000, 1, 1)\n",
    "    time_between_dates = end_date - start_date\n",
    "    days_between_dates = time_between_dates.days\n",
    "    random_number_of_days = random.randrange(days_between_dates)\n",
    "    random_date = start_date + datetime.timedelta(days=random_number_of_days)\n",
    "    return random_date"
   ]
  },
  {
   "cell_type": "code",
   "execution_count": 9,
   "id": "a1a7aa8e",
   "metadata": {},
   "outputs": [],
   "source": [
    "dates = [gen_date() for _ in range(NUM_OF_ROWS)]"
   ]
  },
  {
   "cell_type": "code",
   "execution_count": 10,
   "id": "566cb4d6",
   "metadata": {},
   "outputs": [],
   "source": [
    "demographics['birth_date'] = dates"
   ]
  },
  {
   "cell_type": "code",
   "execution_count": 11,
   "id": "73c1135d",
   "metadata": {},
   "outputs": [],
   "source": [
    "dist_27 = lambda x: np.random.choice([0,1], p=[0.85, 0.15])\n",
    "dist_35 = lambda x: np.random.choice([0,1,2,3], p=[0.1, 0.4, 0.3, .2])\n",
    "dist_70 = lambda x: np.random.choice([0,1,2,3,4,5], p=[0.03, 0.3, 0.4, .2, .05, .02])"
   ]
  },
  {
   "cell_type": "code",
   "execution_count": 12,
   "id": "2cec4a08",
   "metadata": {},
   "outputs": [],
   "source": [
    "demographics['age'] = demographics.birth_date.apply(lambda x: datetime.datetime.now().year - x.year)"
   ]
  },
  {
   "cell_type": "markdown",
   "id": "30639b4b",
   "metadata": {},
   "source": [
    "### Children"
   ]
  },
  {
   "cell_type": "code",
   "execution_count": 13,
   "id": "761c6f89",
   "metadata": {},
   "outputs": [],
   "source": [
    "func = lambda x: dist_27(_) if x<=27 else(dist_35(_) if x<=35 else dist_70(_))\n",
    "\n",
    "demographics['children'] = demographics.age.apply(func)"
   ]
  },
  {
   "cell_type": "markdown",
   "id": "b3c0d0ad",
   "metadata": {},
   "source": [
    "### Employment"
   ]
  },
  {
   "cell_type": "code",
   "execution_count": 14,
   "id": "3b5a90c3",
   "metadata": {},
   "outputs": [],
   "source": [
    "working = lambda x: np.random.choice([0,1], p=[0.1, 0.9])\n",
    "working_lst = [working(_) for _ in range(NUM_OF_ROWS)]"
   ]
  },
  {
   "cell_type": "code",
   "execution_count": 15,
   "id": "021e90e6",
   "metadata": {},
   "outputs": [],
   "source": [
    "demographics['employment'] = working_lst"
   ]
  },
  {
   "cell_type": "markdown",
   "id": "ca346e98",
   "metadata": {},
   "source": [
    "### ID"
   ]
  },
  {
   "cell_type": "code",
   "execution_count": 16,
   "id": "583c71f9",
   "metadata": {},
   "outputs": [],
   "source": [
    "id = np.random.choice(np.arange(210000,470000), size=NUM_OF_ROWS)"
   ]
  },
  {
   "cell_type": "code",
   "execution_count": 17,
   "id": "345be819",
   "metadata": {
    "scrolled": true
   },
   "outputs": [],
   "source": [
    "demographics['id'] = id"
   ]
  },
  {
   "cell_type": "markdown",
   "id": "45bdf8fb",
   "metadata": {},
   "source": [
    "### Cities"
   ]
  },
  {
   "cell_type": "code",
   "execution_count": 18,
   "id": "a215cfb9",
   "metadata": {},
   "outputs": [],
   "source": [
    "cities = ['Tel_Aviv_Yaffo', 'Rishon_LeTsiyon', 'Ramat_Gan', 'Petah_Tikva', 'Ramat_HaSharon', 'Petah_Tikva', 'Herzliya']\n",
    "weights = [.5, .15, .1, .1, .05, .075, .025]\n",
    "assert len(weights) == len(cities)\n",
    "assert sum(weights) == 1"
   ]
  },
  {
   "cell_type": "code",
   "execution_count": 19,
   "id": "412b3816",
   "metadata": {},
   "outputs": [],
   "source": [
    "cities_lst = np.random.choice(cities, p=weights, size=NUM_OF_ROWS)"
   ]
  },
  {
   "cell_type": "code",
   "execution_count": 20,
   "id": "f0979c99",
   "metadata": {
    "scrolled": true
   },
   "outputs": [],
   "source": [
    "demographics['city'] = cities_lst"
   ]
  },
  {
   "cell_type": "markdown",
   "id": "c6a33bd7",
   "metadata": {},
   "source": [
    "### Email and Password"
   ]
  },
  {
   "cell_type": "code",
   "execution_count": 21,
   "id": "e8722368",
   "metadata": {},
   "outputs": [],
   "source": [
    "emails = [f.ascii_email() for _ in range(NUM_OF_ROWS)]\n",
    "demographics['email'] = emails"
   ]
  },
  {
   "cell_type": "code",
   "execution_count": 22,
   "id": "5b667391",
   "metadata": {},
   "outputs": [],
   "source": [
    "passwords = [f.password() for _ in range(NUM_OF_ROWS)]\n",
    "demographics['password'] = passwords"
   ]
  },
  {
   "cell_type": "code",
   "execution_count": 23,
   "id": "eb4777da",
   "metadata": {},
   "outputs": [
    {
     "data": {
      "text/html": [
       "<div>\n",
       "<style scoped>\n",
       "    .dataframe tbody tr th:only-of-type {\n",
       "        vertical-align: middle;\n",
       "    }\n",
       "\n",
       "    .dataframe tbody tr th {\n",
       "        vertical-align: top;\n",
       "    }\n",
       "\n",
       "    .dataframe thead th {\n",
       "        text-align: right;\n",
       "    }\n",
       "</style>\n",
       "<table border=\"1\" class=\"dataframe\">\n",
       "  <thead>\n",
       "    <tr style=\"text-align: right;\">\n",
       "      <th></th>\n",
       "      <th>name</th>\n",
       "      <th>birth_date</th>\n",
       "      <th>age</th>\n",
       "      <th>children</th>\n",
       "      <th>employment</th>\n",
       "      <th>id</th>\n",
       "      <th>city</th>\n",
       "      <th>email</th>\n",
       "      <th>password</th>\n",
       "    </tr>\n",
       "  </thead>\n",
       "  <tbody>\n",
       "    <tr>\n",
       "      <th>0</th>\n",
       "      <td>Mr. Robert Davenport DDS</td>\n",
       "      <td>1963-11-26</td>\n",
       "      <td>59</td>\n",
       "      <td>2</td>\n",
       "      <td>1</td>\n",
       "      <td>232038</td>\n",
       "      <td>Tel_Aviv_Yaffo</td>\n",
       "      <td>jefferytownsend@hutchinson.info</td>\n",
       "      <td>)&amp;5IOAvscQ</td>\n",
       "    </tr>\n",
       "    <tr>\n",
       "      <th>1</th>\n",
       "      <td>Amber Elliott</td>\n",
       "      <td>1971-05-30</td>\n",
       "      <td>51</td>\n",
       "      <td>2</td>\n",
       "      <td>1</td>\n",
       "      <td>346387</td>\n",
       "      <td>Tel_Aviv_Yaffo</td>\n",
       "      <td>walkergina@richmond.com</td>\n",
       "      <td>@J4W2TAlx(</td>\n",
       "    </tr>\n",
       "    <tr>\n",
       "      <th>2</th>\n",
       "      <td>Rodney Pacheco</td>\n",
       "      <td>1999-12-24</td>\n",
       "      <td>23</td>\n",
       "      <td>0</td>\n",
       "      <td>1</td>\n",
       "      <td>329159</td>\n",
       "      <td>Tel_Aviv_Yaffo</td>\n",
       "      <td>pmathis@mills.com</td>\n",
       "      <td>!+h0YxSiT9</td>\n",
       "    </tr>\n",
       "    <tr>\n",
       "      <th>3</th>\n",
       "      <td>Jonathan Gonzalez</td>\n",
       "      <td>1993-07-17</td>\n",
       "      <td>29</td>\n",
       "      <td>3</td>\n",
       "      <td>1</td>\n",
       "      <td>328165</td>\n",
       "      <td>Petah_Tikva</td>\n",
       "      <td>frhodes@gmail.com</td>\n",
       "      <td>4v7evJgxA@</td>\n",
       "    </tr>\n",
       "    <tr>\n",
       "      <th>4</th>\n",
       "      <td>Jose Pineda</td>\n",
       "      <td>1974-07-18</td>\n",
       "      <td>48</td>\n",
       "      <td>5</td>\n",
       "      <td>1</td>\n",
       "      <td>242816</td>\n",
       "      <td>Tel_Aviv_Yaffo</td>\n",
       "      <td>woodnicole@abbott.com</td>\n",
       "      <td>P4bXDE8t%A</td>\n",
       "    </tr>\n",
       "    <tr>\n",
       "      <th>...</th>\n",
       "      <td>...</td>\n",
       "      <td>...</td>\n",
       "      <td>...</td>\n",
       "      <td>...</td>\n",
       "      <td>...</td>\n",
       "      <td>...</td>\n",
       "      <td>...</td>\n",
       "      <td>...</td>\n",
       "      <td>...</td>\n",
       "    </tr>\n",
       "    <tr>\n",
       "      <th>995</th>\n",
       "      <td>Jessica Thompson</td>\n",
       "      <td>1994-12-15</td>\n",
       "      <td>28</td>\n",
       "      <td>2</td>\n",
       "      <td>0</td>\n",
       "      <td>422493</td>\n",
       "      <td>Tel_Aviv_Yaffo</td>\n",
       "      <td>zwilliams@yahoo.com</td>\n",
       "      <td>9MlBaqNZ*A</td>\n",
       "    </tr>\n",
       "    <tr>\n",
       "      <th>996</th>\n",
       "      <td>Audrey Brown</td>\n",
       "      <td>1970-07-19</td>\n",
       "      <td>52</td>\n",
       "      <td>3</td>\n",
       "      <td>0</td>\n",
       "      <td>282307</td>\n",
       "      <td>Rishon_LeTsiyon</td>\n",
       "      <td>qmurray@yahoo.com</td>\n",
       "      <td>tWiQ9E6to_</td>\n",
       "    </tr>\n",
       "    <tr>\n",
       "      <th>997</th>\n",
       "      <td>Steven Bennett</td>\n",
       "      <td>1984-06-19</td>\n",
       "      <td>38</td>\n",
       "      <td>2</td>\n",
       "      <td>1</td>\n",
       "      <td>252693</td>\n",
       "      <td>Rishon_LeTsiyon</td>\n",
       "      <td>ashah@hotmail.com</td>\n",
       "      <td>(n)3VuLdAa</td>\n",
       "    </tr>\n",
       "    <tr>\n",
       "      <th>998</th>\n",
       "      <td>Patrick Edwards</td>\n",
       "      <td>1979-08-23</td>\n",
       "      <td>43</td>\n",
       "      <td>1</td>\n",
       "      <td>1</td>\n",
       "      <td>349423</td>\n",
       "      <td>Petah_Tikva</td>\n",
       "      <td>bnelson@yahoo.com</td>\n",
       "      <td>V7IWl3Ga&amp;y</td>\n",
       "    </tr>\n",
       "    <tr>\n",
       "      <th>999</th>\n",
       "      <td>Debbie Gonzales</td>\n",
       "      <td>1981-02-22</td>\n",
       "      <td>41</td>\n",
       "      <td>2</td>\n",
       "      <td>1</td>\n",
       "      <td>261269</td>\n",
       "      <td>Tel_Aviv_Yaffo</td>\n",
       "      <td>hestersamuel@gmail.com</td>\n",
       "      <td>1q!03GjZS%</td>\n",
       "    </tr>\n",
       "  </tbody>\n",
       "</table>\n",
       "<p>1000 rows × 9 columns</p>\n",
       "</div>"
      ],
      "text/plain": [
       "                         name  birth_date  age  children  employment      id  \\\n",
       "0    Mr. Robert Davenport DDS  1963-11-26   59         2           1  232038   \n",
       "1               Amber Elliott  1971-05-30   51         2           1  346387   \n",
       "2              Rodney Pacheco  1999-12-24   23         0           1  329159   \n",
       "3           Jonathan Gonzalez  1993-07-17   29         3           1  328165   \n",
       "4                 Jose Pineda  1974-07-18   48         5           1  242816   \n",
       "..                        ...         ...  ...       ...         ...     ...   \n",
       "995          Jessica Thompson  1994-12-15   28         2           0  422493   \n",
       "996              Audrey Brown  1970-07-19   52         3           0  282307   \n",
       "997            Steven Bennett  1984-06-19   38         2           1  252693   \n",
       "998           Patrick Edwards  1979-08-23   43         1           1  349423   \n",
       "999           Debbie Gonzales  1981-02-22   41         2           1  261269   \n",
       "\n",
       "                city                            email    password  \n",
       "0     Tel_Aviv_Yaffo  jefferytownsend@hutchinson.info  )&5IOAvscQ  \n",
       "1     Tel_Aviv_Yaffo          walkergina@richmond.com  @J4W2TAlx(  \n",
       "2     Tel_Aviv_Yaffo                pmathis@mills.com  !+h0YxSiT9  \n",
       "3        Petah_Tikva                frhodes@gmail.com  4v7evJgxA@  \n",
       "4     Tel_Aviv_Yaffo            woodnicole@abbott.com  P4bXDE8t%A  \n",
       "..               ...                              ...         ...  \n",
       "995   Tel_Aviv_Yaffo              zwilliams@yahoo.com  9MlBaqNZ*A  \n",
       "996  Rishon_LeTsiyon                qmurray@yahoo.com  tWiQ9E6to_  \n",
       "997  Rishon_LeTsiyon                ashah@hotmail.com  (n)3VuLdAa  \n",
       "998      Petah_Tikva                bnelson@yahoo.com  V7IWl3Ga&y  \n",
       "999   Tel_Aviv_Yaffo           hestersamuel@gmail.com  1q!03GjZS%  \n",
       "\n",
       "[1000 rows x 9 columns]"
      ]
     },
     "execution_count": 23,
     "metadata": {},
     "output_type": "execute_result"
    }
   ],
   "source": [
    "demographics"
   ]
  },
  {
   "cell_type": "markdown",
   "id": "f739da73",
   "metadata": {},
   "source": [
    "### Seeding the clusters"
   ]
  },
  {
   "cell_type": "code",
   "execution_count": 24,
   "id": "f7e618df",
   "metadata": {},
   "outputs": [],
   "source": [
    "demographics.loc[:, 'money'] = 'rich'\n",
    "demographics.loc[:666, 'money'] = 'medium'\n",
    "demographics.loc[:300, 'money'] = 'poor'"
   ]
  },
  {
   "cell_type": "code",
   "execution_count": 25,
   "id": "788be73f",
   "metadata": {
    "scrolled": true
   },
   "outputs": [],
   "source": [
    "# sns.countplot(data=demographics, x='city', hue='money')"
   ]
  },
  {
   "cell_type": "code",
   "execution_count": 26,
   "id": "49e721f1",
   "metadata": {},
   "outputs": [],
   "source": [
    "map_ = {'poor': [0,1], 'medium': [1,2,3,4], 'rich': [4,5]}\n",
    "\n",
    "demographics['seed'] = demographics.money.apply(lambda x: np.random.choice(map_[x]))"
   ]
  },
  {
   "cell_type": "markdown",
   "id": "0b75ae71",
   "metadata": {},
   "source": [
    "## Bills"
   ]
  },
  {
   "cell_type": "code",
   "execution_count": 27,
   "id": "930be1ec",
   "metadata": {},
   "outputs": [],
   "source": [
    "def get_mean_scale(means, stds, i, children_value=40):\n",
    "    mean = means[demographics.loc[i, 'seed']] + demographics.loc[i, 'seed']*demographics.loc[i, 'children']*children_value\n",
    "    std = stds[demographics.loc[i, 'seed']]\n",
    "    return mean, std"
   ]
  },
  {
   "cell_type": "markdown",
   "id": "87618616",
   "metadata": {},
   "source": [
    "### Electricity"
   ]
  },
  {
   "cell_type": "code",
   "execution_count": 28,
   "id": "3be138f1",
   "metadata": {},
   "outputs": [],
   "source": [
    "# for electricity \n",
    "\n",
    "means_elec = [120, 160, 210, 260, 320, 460]\n",
    "stds = [20, 25, 30, 35, 50, 70]\n",
    "\n",
    "mean_and_stds = [get_mean_scale(means_elec, stds, i, 40) for i in range(NUM_OF_ROWS)]\n",
    "lst = [np.random.normal(loc=mean, scale=std, size=NUM_OF_BILLS) for (mean,std) in mean_and_stds]"
   ]
  },
  {
   "cell_type": "code",
   "execution_count": 29,
   "id": "328b7b69",
   "metadata": {},
   "outputs": [],
   "source": [
    "# sort bills so most expensive in winter and then summer\n",
    "\n",
    "map_ = 11 - np.array([0, 1, 11, 7, 6, 5, 3, 10, 4, 9, 8, 2])\n",
    "A = np.sort(lst, axis=1)\n",
    "B = np.array([map_ for _ in range(NUM_OF_ROWS)])\n",
    "\n",
    "bills = np.take_along_axis(A,B,1)"
   ]
  },
  {
   "cell_type": "code",
   "execution_count": 30,
   "id": "dbde6e2d",
   "metadata": {
    "scrolled": false
   },
   "outputs": [],
   "source": [
    "electricity = demographics[['name', 'id']]\n",
    "\n",
    "for i in range(NUM_OF_BILLS):\n",
    "    electricity.insert(electricity.shape[1], months[i%12], bills[:, i])"
   ]
  },
  {
   "cell_type": "markdown",
   "id": "16d8306f",
   "metadata": {},
   "source": [
    "### Water bills"
   ]
  },
  {
   "cell_type": "code",
   "execution_count": 31,
   "id": "83f22454",
   "metadata": {},
   "outputs": [],
   "source": [
    "means_water = np.array(means_elec)/1.5 + 10\n",
    "# means\n",
    "\n",
    "mean_and_stds = [get_mean_scale(means_water, stds, i, 10) for i in range(len(demographics))]\n",
    "lst = [np.random.normal(loc=mean, scale=std, size=NUM_OF_BILLS) for (mean,std) in mean_and_stds]\n",
    "\n",
    "# lst = [np.random.normal(loc=means[demographics.loc[i, 'seed']] + demographics.loc[i, 'seed']*demographics.loc[i, 'children']*10, scale=stds[demographics.loc[i, 'seed']], size=12) for i in range(len(df))]\n",
    "bills = np.abs(np.array(lst))"
   ]
  },
  {
   "cell_type": "code",
   "execution_count": 32,
   "id": "966ab252",
   "metadata": {
    "scrolled": true
   },
   "outputs": [],
   "source": [
    "water = demographics[['name', 'id']]\n",
    "\n",
    "for i in range(NUM_OF_BILLS):\n",
    "#     df_water[months[i]] = bills[:, i]\n",
    "    water.insert(water.shape[1], months[i%12], bills[:, i])"
   ]
  },
  {
   "cell_type": "markdown",
   "id": "d0752966",
   "metadata": {},
   "source": [
    "### Arnona"
   ]
  },
  {
   "cell_type": "code",
   "execution_count": 33,
   "id": "c24f4561",
   "metadata": {},
   "outputs": [
    {
     "data": {
      "text/plain": [
       "['Tel_Aviv_Yaffo',\n",
       " 'Rishon_LeTsiyon',\n",
       " 'Ramat_Gan',\n",
       " 'Petah_Tikva',\n",
       " 'Ramat_HaSharon',\n",
       " 'Petah_Tikva',\n",
       " 'Herzliya']"
      ]
     },
     "execution_count": 33,
     "metadata": {},
     "output_type": "execute_result"
    }
   ],
   "source": [
    "cities"
   ]
  },
  {
   "cell_type": "code",
   "execution_count": 34,
   "id": "80063006",
   "metadata": {},
   "outputs": [],
   "source": [
    "arnona_prices = [1000, 850, 650, 550, 600, 400, 400]\n",
    "# lst = [np.random.normal(loc=means[df.loc[i, 'seed']] + df.loc[i, 'seed']*df.loc[i, 'children']*10, scale=stds[df.loc[i, 'seed']], size=12) for i in range(len(df))]"
   ]
  },
  {
   "cell_type": "code",
   "execution_count": 35,
   "id": "2d43a0e6",
   "metadata": {},
   "outputs": [],
   "source": [
    "# i+=1\n",
    "\n",
    "# mean_and_stds = [get_mean_scale(arnona, stds, i, 10) for i in range(NUM_OF_BILLS)]\n",
    "# arnona_lst = [np.random.normal(loc=mean, scale=100, size=NUM_OF_BILLS) for (mean,_) in mean_and_stds]\n",
    "\n",
    "# arnona_lst = [np.random.normal(loc=arnona[cities.index(demographics.loc[i, 'city'])]+demographics.loc[i, 'seed']*demographics.loc[i, 'children']*10, scale=100) for i in range(len(demographics))]\n",
    "\n",
    "arnona_lst = []\n",
    "\n",
    "for i in range(len(demographics)):\n",
    "    arnona = arnona_prices[cities.index(demographics.loc[i, 'city'])]\n",
    "    arnona += demographics.loc[i, 'seed']*demographics.loc[i, 'children']*10\n",
    "    res = np.random.normal(loc=arnona, scale=100)\n",
    "    arnona_lst.append(res)"
   ]
  },
  {
   "cell_type": "code",
   "execution_count": 36,
   "id": "e9ab0137",
   "metadata": {
    "scrolled": false
   },
   "outputs": [],
   "source": [
    "arnona = demographics[['name', 'id']]\n",
    "arnona.insert(arnona.shape[1], 'price', arnona_lst)"
   ]
  },
  {
   "cell_type": "markdown",
   "id": "e664df96",
   "metadata": {},
   "source": [
    "## Signed Up"
   ]
  },
  {
   "cell_type": "code",
   "execution_count": 37,
   "id": "51092702",
   "metadata": {},
   "outputs": [],
   "source": [
    "signed_up = [1 for _ in range(950)] + [0 for _ in range(50)]\n",
    "\n",
    "random.shuffle(signed_up)"
   ]
  },
  {
   "cell_type": "code",
   "execution_count": 38,
   "id": "2b916546",
   "metadata": {},
   "outputs": [],
   "source": [
    "demographics.insert(demographics.shape[1], 'Signed_Up', signed_up)\n",
    "electricity.insert(electricity.shape[1], 'Signed_Up', signed_up)\n",
    "water.insert(water.shape[1], 'Signed_Up', signed_up)\n",
    "arnona.insert(arnona.shape[1], 'Signed_Up', signed_up)"
   ]
  },
  {
   "cell_type": "markdown",
   "id": "c2da03d5",
   "metadata": {},
   "source": [
    "## Save it all"
   ]
  },
  {
   "cell_type": "code",
   "execution_count": 39,
   "id": "f161bf76",
   "metadata": {},
   "outputs": [],
   "source": [
    "demographics.drop(['money', 'seed'], axis=1).to_csv('demographics.csv')\n",
    "electricity.to_csv('electricity.csv')\n",
    "water.to_csv('water.csv')\n",
    "arnona.to_csv('arnona.csv')"
   ]
  }
 ],
 "metadata": {
  "kernelspec": {
   "display_name": "Python 3 (ipykernel)",
   "language": "python",
   "name": "python3"
  },
  "language_info": {
   "codemirror_mode": {
    "name": "ipython",
    "version": 3
   },
   "file_extension": ".py",
   "mimetype": "text/x-python",
   "name": "python",
   "nbconvert_exporter": "python",
   "pygments_lexer": "ipython3",
   "version": "3.9.12"
  },
  "toc": {
   "base_numbering": 1,
   "nav_menu": {},
   "number_sections": true,
   "sideBar": true,
   "skip_h1_title": false,
   "title_cell": "Table of Contents",
   "title_sidebar": "Contents",
   "toc_cell": false,
   "toc_position": {},
   "toc_section_display": true,
   "toc_window_display": true
  }
 },
 "nbformat": 4,
 "nbformat_minor": 5
}
